{
 "cells": [
  {
   "cell_type": "markdown",
   "metadata": {},
   "source": [
    "# Analysis on Identifying Cats with AWS Rekognition API"
   ]
  },
  {
   "cell_type": "markdown",
   "metadata": {},
   "source": [
    "## OS environment set up"
   ]
  },
  {
   "cell_type": "code",
   "execution_count": null,
   "metadata": {
    "vscode": {
     "languageId": "plaintext"
    }
   },
   "outputs": [],
   "source": [
    "!pip install boto3\n",
    "!pip install pyfs\n",
    "!mkdir temp"
   ]
  },
  {
   "cell_type": "markdown",
   "metadata": {},
   "source": [
    "## Useful function used"
   ]
  },
  {
   "cell_type": "markdown",
   "metadata": {},
   "source": [
    "This is a helper function to get the API's Cat's confidence."
   ]
  },
  {
   "cell_type": "code",
   "execution_count": null,
   "metadata": {},
   "outputs": [],
   "source": [
    "import boto3\n",
    "from botocore.errorfactory import ClientError\n",
    "import PIL\n",
    "import numpy as np\n",
    "\n",
    "\n",
    "def detect_labels(photo, bucket, local, p = False):\n",
    "    ## link to the AWS ML service\n",
    "    client=boto3.client('rekognition')\n",
    "    response = None\n",
    "    ## provide option to read image from both local and s3 buckets\n",
    "    if local:\n",
    "        with open(photo, 'rb') as image_file:\n",
    "            print(\"img read\")\n",
    "            image = image_file.read()\n",
    "            print(type(image))\n",
    "            response = client.detect_labels(Image={'Bytes': image}, MaxLabels=10)\n",
    "    else:\n",
    "        response = client.detect_labels(Image={'S3Object':{'Bucket':bucket,'Name':photo}},\n",
    "            MaxLabels=10)\n",
    "    \n",
    "    # optional logging\n",
    "    if p:\n",
    "        print('Detected cat labels for ' + photo) \n",
    "        print()\n",
    "    found_cat = False\n",
    "    for label in response['Labels']:\n",
    "        if label['Name'] == 'Cat':\n",
    "            found_cat = True\n",
    "            for instance in label['Instances']:\n",
    "                ## optional logging\n",
    "                if p:\n",
    "                    print (\"  Bounding box\")\n",
    "                    print (\"    Top: \" + str(instance['BoundingBox']['Top']))\n",
    "                    print (\"    Left: \" + str(instance['BoundingBox']['Left']))\n",
    "                    print (\"    Width: \" +  str(instance['BoundingBox']['Width']))\n",
    "                    print (\"    Height: \" +  str(instance['BoundingBox']['Height']))\n",
    "                    print (\"  Confidence: \" + str(instance['Confidence']))\n",
    "                    print()\n",
    "            return found_cat, label\n",
    "    return found_cat, 0"
   ]
  },
  {
   "cell_type": "markdown",
   "metadata": {},
   "source": [
    "### A Sample Run on the above function"
   ]
  },
  {
   "cell_type": "markdown",
   "metadata": {},
   "source": [
    "Display the image:"
   ]
  },
  {
   "cell_type": "code",
   "execution_count": null,
   "metadata": {},
   "outputs": [],
   "source": [
    "import s3fs\n",
    "fs = s3fs.S3FileSystem()\n",
    "file = fs.open('s3://qtm350project/1181667592680_.pic.jpg')\n",
    "image = PIL.Image.open(file)\n",
    "display(image)"
   ]
  },
  {
   "cell_type": "markdown",
   "metadata": {},
   "source": [
    "Show sample result on the image"
   ]
  },
  {
   "cell_type": "code",
   "execution_count": null,
   "metadata": {},
   "outputs": [],
   "source": [
    "res = detect_labels('1181667592680_.pic.jpg', 'qtm350project', False, True)\n",
    "res"
   ]
  },
  {
   "cell_type": "markdown",
   "metadata": {},
   "source": [
    "Do some manipulation to the image and run the ML API again"
   ]
  },
  {
   "cell_type": "code",
   "execution_count": null,
   "metadata": {},
   "outputs": [],
   "source": [
    "image_inv = PIL.ImageOps.invert(image)\n",
    "display(image_inv)\n",
    "image_inv.save('./img/sample_img/inv_1181667592680_.pic.jpg')"
   ]
  },
  {
   "cell_type": "code",
   "execution_count": null,
   "metadata": {},
   "outputs": [],
   "source": [
    "res = detect_labels('./img/sample_img/inv_1181667592680_.pic.jpg', 'qtm350project', True)\n",
    "res"
   ]
  },
  {
   "cell_type": "markdown",
   "metadata": {},
   "source": [
    "## Analysis"
   ]
  },
  {
   "cell_type": "markdown",
   "metadata": {},
   "source": [
    "### Get data"
   ]
  },
  {
   "cell_type": "markdown",
   "metadata": {},
   "source": [
    "In the baseline run, all sample image taken by the group member would run through the AWS ML API\n",
    "<!-- more explanation -->"
   ]
  },
  {
   "cell_type": "markdown",
   "metadata": {},
   "source": [
    "Get the names of all images"
   ]
  },
  {
   "cell_type": "code",
   "execution_count": null,
   "metadata": {},
   "outputs": [],
   "source": [
    "s3_resource = boto3.resource('s3')\n",
    "my_bucket = s3_resource.Bucket('qtm350project')\n",
    "summaries = my_bucket.objects.all()\n",
    "image_names = [image.key for image  in summaries]\n",
    "image_names"
   ]
  },
  {
   "cell_type": "markdown",
   "metadata": {},
   "source": [
    "Fetch all images from s3 bucket"
   ]
  },
  {
   "cell_type": "code",
   "execution_count": null,
   "metadata": {},
   "outputs": [],
   "source": [
    "for name in image_names:\n",
    "    try:\n",
    "        s3_resource.Bucket('qtm350project').download_file(name, f'/temp/original/{name}')\n",
    "    except:\n",
    "        print(f'Unable to get {name}')"
   ]
  },
  {
   "cell_type": "markdown",
   "metadata": {},
   "source": [
    "### data manipulation"
   ]
  },
  {
   "cell_type": "markdown",
   "metadata": {},
   "source": [
    "Some data manipulation would be done on the original image to investigate the effect of how different operation would impact AWS ML performance.  \n",
    "- Rotation\n",
    "    - rotation of 60, 90, and 180 degrees would be discussed\n",
    "- Cut and Shuffle\n",
    "    - cut the image onto four pieces and rearrange it in different order\n",
    "- Obsure 这边可以改下称呼\n",
    "    - using maxpool and minpool to make the image more obscure and harder to read"
   ]
  },
  {
   "cell_type": "markdown",
   "metadata": {},
   "source": [
    "#### Rotation"
   ]
  },
  {
   "cell_type": "code",
   "execution_count": null,
   "metadata": {
    "vscode": {
     "languageId": "plaintext"
    }
   },
   "outputs": [],
   "source": []
  },
  {
   "cell_type": "markdown",
   "metadata": {},
   "source": [
    "#### Cut and Shuffle"
   ]
  },
  {
   "cell_type": "code",
   "execution_count": null,
   "metadata": {},
   "outputs": [],
   "source": [
    "import random\n",
    "\n",
    "def crop(img, order):\n",
    "    raw = np.array(img)\n",
    "    h = raw.shape[0]\n",
    "    w = raw.shape[1]\n",
    "    divide1 = int(h/2)\n",
    "    divide2 = int(w/2)\n",
    "    scattered = []\n",
    "    scattered.append(raw[0:divide1, 0:divide2])\n",
    "    scattered.append(raw[divide1:2*divide1, 0:divide2])\n",
    "    scattered.append(raw[0:divide1, divide2:2*divide2])\n",
    "    scattered.append(raw[divide1:2*divide1, divide2:2*divide2])\n",
    "\n",
    "    raw[0:divide1, 0:divide2] = scattered[order[0]]\n",
    "    raw[divide1:2*divide1, 0:divide2] = scattered[order[1]]\n",
    "    raw[0:divide1, divide2:2*divide2] = scattered[order[2]]\n",
    "    raw[divide1:2*divide1, divide2:2*divide2] = scattered[order[3]] \n",
    "    return raw\n",
    "\n",
    "def get_order():\n",
    "    flag = True\n",
    "    order = None\n",
    "    while flag:\n",
    "        order = random.sample([1,2,3,4],4)\n",
    "        if [1,2,3,4] != order:\n",
    "            flag = False\n",
    "    return order\n",
    "\n",
    "fs = os.listdir(\"temp/\")\n",
    "for item in fs:\n",
    "    if \"MAX\" not in item:\n",
    "        try:\n",
    "            Image.fromarray(crop(Image.open(\"temp/\" + item))).save(\"temp/\"  + \"CROPPED\" + item)\n",
    "        except:\n",
    "            print(\"Problem:\" + item)"
   ]
  },
  {
   "cell_type": "markdown",
   "metadata": {},
   "source": [
    "#### Obsure 待改"
   ]
  },
  {
   "cell_type": "code",
   "execution_count": null,
   "metadata": {},
   "outputs": [],
   "source": [
    "def squeeze(img, f, isMax): #f is the length of the filter box, f=3 means 3x3 box\n",
    "    raw = np.array(img)\n",
    "    h = raw.shape[0]\n",
    "    w = raw.shape[1]\n",
    "    after = raw\n",
    "    for i in range(0, h-f):\n",
    "        for j in range(0, w-f):\n",
    "            if isMax == True: v = np.max(raw[i:i+f, j:j+f])\n",
    "            else: v = np.mean(raw[i:i+f, j:j+f])\n",
    "            after[i,j] = v\n",
    "    return after[0:h-f,0:w-f]"
   ]
  },
  {
   "cell_type": "markdown",
   "metadata": {},
   "source": [
    "### Run ML API\n",
    "Below is a helper funtion to run ML API on all files in a given directory"
   ]
  },
  {
   "cell_type": "code",
   "execution_count": null,
   "metadata": {},
   "outputs": [],
   "source": [
    "import os\n",
    "\n",
    "def predict(dir_path):\n",
    "    rsts = {}\n",
    "    ls = os.listdir(dir_path)\n",
    "    for l in ls:\n",
    "        if l[-3:].lower() == \"png\" or l[-3:].lower() == \"jpg\":\n",
    "            try:\n",
    "                res = detect_labels(dir_path + l, None, True)\n",
    "                rsts[l] = res\n",
    "            except:\n",
    "                print(f'Error in running ML API on {l}')\n",
    "    return rsts"
   ]
  },
  {
   "cell_type": "markdown",
   "metadata": {},
   "source": [
    "#### Baseline Run\n",
    "In the baseline run, all sample image taken by the group member would run through the AWS ML API\n",
    "<!-- more explanation -->"
   ]
  },
  {
   "cell_type": "code",
   "execution_count": null,
   "metadata": {},
   "outputs": [],
   "source": [
    "conf_orig = predict(\"/temp/original\")"
   ]
  },
  {
   "cell_type": "markdown",
   "metadata": {},
   "source": [
    "### Analysis on the effect of rotation"
   ]
  },
  {
   "cell_type": "markdown",
   "metadata": {},
   "source": [
    "### Analysis on the effect of clarity"
   ]
  }
 ],
 "metadata": {
  "language_info": {
   "name": "python"
  },
  "orig_nbformat": 4
 },
 "nbformat": 4,
 "nbformat_minor": 2
}
